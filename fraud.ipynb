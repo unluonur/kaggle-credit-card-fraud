{
 "cells": [
  {
   "cell_type": "markdown",
   "metadata": {},
   "source": [
    "#### You can download the full data from [Kaggle](https://www.kaggle.com/mlg-ulb/creditcardfraud)\n"
   ]
  },
  {
   "cell_type": "code",
   "execution_count": 1,
   "metadata": {},
   "outputs": [
    {
     "name": "stdout",
     "output_type": "stream",
     "text": [
      "data loaded\n"
     ]
    }
   ],
   "source": [
    "import pandas as pd\n",
    "import numpy as np\n",
    "import matplotlib.pyplot as plt\n",
    "import time\n",
    "from sklearn.metrics import confusion_matrix\n",
    "\n",
    "data = pd.read_csv('creditcard.csv')\n",
    "\n",
    "print('data loaded')"
   ]
  },
  {
   "cell_type": "code",
   "execution_count": 2,
   "metadata": {},
   "outputs": [
    {
     "name": "stdout",
     "output_type": "stream",
     "text": [
      "data prepared\n"
     ]
    }
   ],
   "source": [
    "x = data.iloc[:,1:-1]\n",
    "y = data.iloc[:,-1]\n",
    "\n",
    "from sklearn.model_selection import train_test_split\n",
    "\n",
    "x_train, x_test, y_train, y_test = train_test_split(x, y, test_size=0.33, random_state=0)\n",
    "\n",
    "from sklearn.preprocessing import StandardScaler\n",
    "\n",
    "sc = StandardScaler()\n",
    "\n",
    "X_train = sc.fit_transform(x_train)\n",
    "X_test = sc.fit_transform(x_test)\n",
    "\n",
    "print('data prepared')\n"
   ]
  },
  {
   "cell_type": "code",
   "execution_count": 3,
   "metadata": {},
   "outputs": [
    {
     "name": "stderr",
     "output_type": "stream",
     "text": [
      "D:\\Users\\onur\\Anaconda3\\lib\\site-packages\\sklearn\\linear_model\\logistic.py:433: FutureWarning: Default solver will be changed to 'lbfgs' in 0.22. Specify a solver to silence this warning.\n",
      "  FutureWarning)\n"
     ]
    },
    {
     "name": "stdout",
     "output_type": "stream",
     "text": [
      "training completed in 2.598599910736084 seconds\n",
      "prediction completed in 0.00797724723815918 seconds\n",
      "[[93811    14]\n",
      " [   64    98]]\n"
     ]
    }
   ],
   "source": [
    "from sklearn.linear_model import LogisticRegression\n",
    "\n",
    "lr = LogisticRegression()\n",
    "\n",
    "start = time.time()\n",
    "lr.fit(X_train, y_train)\n",
    "print('training completed in %s seconds'%(time.time() - start))\n",
    "\n",
    "start = time.time()\n",
    "y_pred = lr.predict(X_test)\n",
    "print('prediction completed in %s seconds'%(time.time() - start))\n",
    "\n",
    "cm = confusion_matrix(y_test, y_pred)\n",
    "\n",
    "print(cm)\n"
   ]
  },
  {
   "cell_type": "code",
   "execution_count": 4,
   "metadata": {},
   "outputs": [
    {
     "name": "stdout",
     "output_type": "stream",
     "text": [
      "training completed in 196.6151580810547 seconds\n",
      "prediction completed in 14.447367429733276 seconds\n",
      "[[93818     7]\n",
      " [   57   105]]\n"
     ]
    }
   ],
   "source": [
    "from sklearn.svm import SVC\n",
    "\n",
    "svc = SVC(kernel='rbf')\n",
    "\n",
    "start = time.time()\n",
    "svc.fit(X_train, y_train)\n",
    "print('training completed in %s seconds'%(time.time() - start))\n",
    "\n",
    "start = time.time()\n",
    "y_pred = svc.predict(X_test)\n",
    "print('prediction completed in %s seconds'%(time.time() - start))\n",
    "\n",
    "cm = confusion_matrix(y_test, y_pred)\n",
    "\n",
    "print(cm)\n"
   ]
  },
  {
   "cell_type": "code",
   "execution_count": 5,
   "metadata": {},
   "outputs": [
    {
     "name": "stdout",
     "output_type": "stream",
     "text": [
      "training completed in 47.84837198257446 seconds\n",
      "prediction completed in 1.8719923496246338 seconds\n",
      "[[93810    15]\n",
      " [   43   119]]\n"
     ]
    }
   ],
   "source": [
    "from sklearn.svm import SVC\n",
    "\n",
    "svc = SVC(kernel='poly')\n",
    "\n",
    "start = time.time()\n",
    "svc.fit(X_train, y_train)\n",
    "print('training completed in %s seconds'%(time.time() - start))\n",
    "\n",
    "start = time.time()\n",
    "y_pred = svc.predict(X_test)\n",
    "print('prediction completed in %s seconds'%(time.time() - start))\n",
    "\n",
    "cm = confusion_matrix(y_test, y_pred)\n",
    "\n",
    "print(cm)\n"
   ]
  },
  {
   "cell_type": "code",
   "execution_count": 6,
   "metadata": {},
   "outputs": [
    {
     "name": "stdout",
     "output_type": "stream",
     "text": [
      "training completed in 0.16184711456298828 seconds\n",
      "prediction completed in 0.08710527420043945 seconds\n",
      "[[91803  2022]\n",
      " [   26   136]]\n"
     ]
    }
   ],
   "source": [
    "from sklearn.naive_bayes import GaussianNB\n",
    "\n",
    "gnb = GaussianNB()\n",
    "\n",
    "start = time.time()\n",
    "gnb.fit(X_train, y_train)\n",
    "print('training completed in %s seconds'%(time.time() - start))\n",
    "\n",
    "start = time.time()\n",
    "y_pred = gnb.predict(X_test)\n",
    "print('prediction completed in %s seconds'%(time.time() - start))\n",
    "\n",
    "cm = confusion_matrix(y_test, y_pred)\n",
    "\n",
    "print(cm)\n"
   ]
  },
  {
   "cell_type": "code",
   "execution_count": 8,
   "metadata": {},
   "outputs": [
    {
     "name": "stdout",
     "output_type": "stream",
     "text": [
      "training completed in 7.826209306716919 seconds\n",
      "prediction completed in 0.015512228012084961 seconds\n",
      "[[93790    35]\n",
      " [   36   126]]\n"
     ]
    }
   ],
   "source": [
    "from sklearn.tree import DecisionTreeClassifier\n",
    "\n",
    "dt = DecisionTreeClassifier(criterion='entropy')\n",
    "\n",
    "start = time.time()\n",
    "dt.fit(X_train, y_train)\n",
    "print('training completed in %s seconds'%(time.time() - start))\n",
    "\n",
    "start = time.time()\n",
    "y_pred = dt.predict(X_test)\n",
    "print('prediction completed in %s seconds'%(time.time() - start))\n",
    "\n",
    "cm = confusion_matrix(y_test, y_pred)\n",
    "\n",
    "print(cm)\n",
    "    "
   ]
  },
  {
   "cell_type": "code",
   "execution_count": 13,
   "metadata": {},
   "outputs": [
    {
     "name": "stdout",
     "output_type": "stream",
     "text": [
      "training completed in 3.489541530609131 seconds\n",
      "prediction completed in 0.03062725067138672 seconds\n",
      "[[93812    13]\n",
      " [   45   117]]\n"
     ]
    }
   ],
   "source": [
    "from sklearn.ensemble import RandomForestClassifier\n",
    "\n",
    "rfc = RandomForestClassifier(n_estimators=3, criterion='entropy')\n",
    "\n",
    "start = time.time()\n",
    "rfc.fit(X_train, y_train)\n",
    "print('training completed in %s seconds'%(time.time() - start))\n",
    "\n",
    "start = time.time()\n",
    "y_pred = rfc.predict(X_test)\n",
    "print('prediction completed in %s seconds'%(time.time() - start))\n",
    "\n",
    "cm = confusion_matrix(y_test, y_pred)\n",
    "\n",
    "print(cm)\n"
   ]
  },
  {
   "cell_type": "code",
   "execution_count": null,
   "metadata": {},
   "outputs": [],
   "source": [
    "from sklearn.neighbors import KNeighborsClassifier\n",
    "\n",
    "knn = KNeighborsClassifier(n_neighbors=1, metric='minkowski')\n",
    "\n",
    "start = time.time()\n",
    "knn.fit(X_train, y_train)\n",
    "print('training completed in %s seconds'%(time.time() - start))\n",
    "\n",
    "start = time.time()\n",
    "y_pred = knn.predict(X_test)\n",
    "print('prediction completed in %s seconds'%(time.time() - start))\n",
    "\n",
    "cm = confusion_matrix(y_test, y_pred)\n",
    "\n",
    "print(cm)\n"
   ]
  }
 ],
 "metadata": {
  "kernelspec": {
   "display_name": "Python 3",
   "language": "python",
   "name": "python3"
  },
  "language_info": {
   "codemirror_mode": {
    "name": "ipython",
    "version": 3
   },
   "file_extension": ".py",
   "mimetype": "text/x-python",
   "name": "python",
   "nbconvert_exporter": "python",
   "pygments_lexer": "ipython3",
   "version": "3.7.1"
  }
 },
 "nbformat": 4,
 "nbformat_minor": 2
}
